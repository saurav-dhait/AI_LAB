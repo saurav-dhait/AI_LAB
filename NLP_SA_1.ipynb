{
  "metadata": {
    "kernelspec": {
      "language": "python",
      "display_name": "Python 3",
      "name": "python3"
    },
    "language_info": {
      "name": "python",
      "version": "3.10.14",
      "mimetype": "text/x-python",
      "codemirror_mode": {
        "name": "ipython",
        "version": 3
      },
      "pygments_lexer": "ipython3",
      "nbconvert_exporter": "python",
      "file_extension": ".py"
    },
    "kaggle": {
      "accelerator": "none",
      "dataSources": [
        {
          "sourceId": 8870083,
          "sourceType": "datasetVersion",
          "datasetId": 5338273
        }
      ],
      "dockerImageVersionId": 30761,
      "isInternetEnabled": false,
      "language": "python",
      "sourceType": "notebook",
      "isGpuEnabled": false
    },
    "colab": {
      "name": "NLP_SA_1",
      "provenance": [],
      "include_colab_link": true
    }
  },
  "nbformat_minor": 0,
  "nbformat": 4,
  "cells": [
    {
      "cell_type": "markdown",
      "metadata": {
        "id": "view-in-github",
        "colab_type": "text"
      },
      "source": [
        "<a href=\"https://colab.research.google.com/github/saurav-dhait/AI_LAB/blob/main/NLP_SA_1.ipynb\" target=\"_parent\"><img src=\"https://colab.research.google.com/assets/colab-badge.svg\" alt=\"Open In Colab\"/></a>"
      ]
    },
    {
      "source": [
        "# IMPORTANT: RUN THIS CELL IN ORDER TO IMPORT YOUR KAGGLE DATA SOURCES,\n",
        "# THEN FEEL FREE TO DELETE THIS CELL.\n",
        "# NOTE: THIS NOTEBOOK ENVIRONMENT DIFFERS FROM KAGGLE'S PYTHON\n",
        "# ENVIRONMENT SO THERE MAY BE MISSING LIBRARIES USED BY YOUR\n",
        "# NOTEBOOK.\n",
        "import kagglehub\n",
        "suchintikasarkar_sentiment_analysis_for_mental_health_path = kagglehub.dataset_download('suchintikasarkar/sentiment-analysis-for-mental-health')\n",
        "\n",
        "print('Data source import complete.')\n"
      ],
      "metadata": {
        "id": "DfhK8r7u-OuH"
      },
      "cell_type": "code",
      "outputs": [],
      "execution_count": null
    },
    {
      "cell_type": "markdown",
      "source": [
        "# IMPORT LIBRARIES"
      ],
      "metadata": {
        "id": "5ZQi0pt6-OuK"
      }
    },
    {
      "cell_type": "code",
      "source": [],
      "metadata": {
        "trusted": true,
        "id": "WSMqtAEL-OuL"
      },
      "outputs": [],
      "execution_count": null
    },
    {
      "cell_type": "code",
      "source": [
        "import numpy as np\n",
        "import matplotlib.pyplot as plt\n",
        "import pandas as pd"
      ],
      "metadata": {
        "execution": {
          "iopub.status.busy": "2025-04-22T20:10:20.915657Z",
          "iopub.execute_input": "2025-04-22T20:10:20.916076Z",
          "iopub.status.idle": "2025-04-22T20:10:21.384867Z",
          "shell.execute_reply.started": "2025-04-22T20:10:20.916036Z",
          "shell.execute_reply": "2025-04-22T20:10:21.383927Z"
        },
        "trusted": true,
        "id": "bzKloCsi-OuL"
      },
      "outputs": [],
      "execution_count": null
    },
    {
      "cell_type": "markdown",
      "source": [
        "# IMPORT DATASET"
      ],
      "metadata": {
        "id": "4FfeUxJ--OuL"
      }
    },
    {
      "cell_type": "code",
      "source": [
        "path = '/kaggle/input/sentiment-analysis-for-mental-health/Combined Data.csv'\n",
        "dataset = pd.read_csv(path)"
      ],
      "metadata": {
        "execution": {
          "iopub.status.busy": "2025-04-22T20:10:42.500631Z",
          "iopub.execute_input": "2025-04-22T20:10:42.501525Z",
          "iopub.status.idle": "2025-04-22T20:10:43.356049Z",
          "shell.execute_reply.started": "2025-04-22T20:10:42.501485Z",
          "shell.execute_reply": "2025-04-22T20:10:43.354967Z"
        },
        "trusted": true,
        "id": "TvzvEmA1-OuL"
      },
      "outputs": [],
      "execution_count": null
    },
    {
      "cell_type": "code",
      "source": [
        "print(dataset.head())"
      ],
      "metadata": {
        "execution": {
          "iopub.status.busy": "2025-04-22T17:10:49.162565Z",
          "iopub.execute_input": "2025-04-22T17:10:49.162924Z",
          "iopub.status.idle": "2025-04-22T17:10:49.1817Z",
          "shell.execute_reply.started": "2025-04-22T17:10:49.162877Z",
          "shell.execute_reply": "2025-04-22T17:10:49.180346Z"
        },
        "trusted": true,
        "id": "xYTOgtWH-OuM"
      },
      "outputs": [],
      "execution_count": null
    },
    {
      "cell_type": "markdown",
      "source": [
        "# EXPLORATORY DATA ANALYSIS\n",
        "#\n",
        "* Understanding the dataset's structure and missing values.\n",
        "* Visualizing the distribution of mental health statuses.\n",
        "* Preparing the text data (by handling missing values and analyzing the length of the text) for future sentiment analysis or machine learning tasks."
      ],
      "metadata": {
        "id": "F7ZAdRsj-OuM"
      }
    },
    {
      "cell_type": "markdown",
      "source": [
        "**checking the basic structure of the dataset using df.info().** This provides information about the columns, data types, and the number of non-null entries in each column. It helps to understand the overall layout of the dataset, including how many entries and what types of data are present (e.g., strings, integers, etc.)."
      ],
      "metadata": {
        "id": "ozKVZS2T-OuM"
      }
    },
    {
      "cell_type": "code",
      "source": [
        "print(\"Dataset Info:\")\n",
        "print(dataset.info())"
      ],
      "metadata": {
        "execution": {
          "iopub.status.busy": "2025-04-22T17:10:49.184849Z",
          "iopub.execute_input": "2025-04-22T17:10:49.185567Z",
          "iopub.status.idle": "2025-04-22T17:10:49.224488Z",
          "shell.execute_reply.started": "2025-04-22T17:10:49.18551Z",
          "shell.execute_reply": "2025-04-22T17:10:49.223237Z"
        },
        "trusted": true,
        "id": "a7QtEwah-OuM"
      },
      "outputs": [],
      "execution_count": null
    },
    {
      "cell_type": "markdown",
      "source": [
        "analysis of above cell\n",
        "1. Total Entries (Rows):\n",
        "\n",
        "There are 53,043 entries in the dataset, indexed from 0 to 53,042.\n",
        "2. Columns:\n",
        "\n",
        "The dataset contains 3 columns:\n",
        "Unnamed: 0: This is an integer column with no missing values (int64). It seems like an index column or could be an irrelevant placeholder (possibly from the dataset loading process).\n",
        "statement: This column contains text data (object type), but has 52681 non-null entries, meaning 362 entries have missing values (53,043 - 52,681 = 362).\n",
        "status: This is another column with string/object data, representing the mental health status, and it has no missing values.\n",
        "3. Memory Usage:\n",
        "\n",
        "The dataset takes up approximately 1.2 MB of memory, which gives an idea of its size.\n",
        "4. What You Can Infer:\n",
        "**The column statement contains some missing values, which you need to handle before further analysis (the author of the code fills these missing values with empty strings).\n",
        "The Unnamed: 0 column may be unnecessary (possibly an index or placeholder), and you can consider dropping it.\n",
        "status is a complete column with no missing values, so it's ready for analysis.\n",
        "In summary, you need to handle the missing values in statement, and you might want to investigate the purpose of Unnamed: 0.**"
      ],
      "metadata": {
        "id": "KkbdyW6P-OuN"
      }
    },
    {
      "cell_type": "markdown",
      "source": [
        "**checking for missing values in each column using df.isnull().sum().** This step is crucial for identifying columns that may need imputation or removal of null values before further analysis."
      ],
      "metadata": {
        "id": "Tt3Ssjyq-OuN"
      }
    },
    {
      "cell_type": "code",
      "source": [
        "print(\"Missing Values:\")\n",
        "print(dataset.isnull().sum())"
      ],
      "metadata": {
        "execution": {
          "iopub.status.busy": "2025-04-22T17:10:49.225743Z",
          "iopub.execute_input": "2025-04-22T17:10:49.226065Z",
          "iopub.status.idle": "2025-04-22T17:10:49.241759Z",
          "shell.execute_reply.started": "2025-04-22T17:10:49.226031Z",
          "shell.execute_reply": "2025-04-22T17:10:49.240562Z"
        },
        "trusted": true,
        "id": "OEfkyVIZ-OuN"
      },
      "outputs": [],
      "execution_count": null
    },
    {
      "cell_type": "markdown",
      "source": [
        "a **histogram to visualize the distribution of the 'status' column (presumably representing the mental health status of individuals in the dataset). The goal here is to see how the statuses are spread out across the dataset, which can help reveal imbalances or trends.**"
      ],
      "metadata": {
        "id": "uERnnj0G-OuN"
      }
    },
    {
      "cell_type": "code",
      "source": [
        "import plotly.express as px\n",
        "fig = px.histogram(dataset, x='status', title='Distribution of Mental Health Status')\n",
        "fig.show()\n"
      ],
      "metadata": {
        "execution": {
          "iopub.status.busy": "2025-04-22T17:10:49.243381Z",
          "iopub.execute_input": "2025-04-22T17:10:49.243807Z",
          "iopub.status.idle": "2025-04-22T17:10:52.571322Z",
          "shell.execute_reply.started": "2025-04-22T17:10:49.243759Z",
          "shell.execute_reply": "2025-04-22T17:10:52.569965Z"
        },
        "trusted": true,
        "id": "QNV-hEDD-OuN"
      },
      "outputs": [],
      "execution_count": null
    },
    {
      "cell_type": "markdown",
      "source": [
        "**filling missing values in the 'statement' column with empty strings (''). This ensures there are no null values in the 'statement' column, which is likely important for further text-based analysis.**"
      ],
      "metadata": {
        "id": "2mwIH3hw-OuN"
      }
    },
    {
      "cell_type": "code",
      "source": [
        "dataset['statement'] = dataset['statement'].fillna('')\n"
      ],
      "metadata": {
        "execution": {
          "iopub.status.busy": "2025-04-22T17:10:52.572712Z",
          "iopub.execute_input": "2025-04-22T17:10:52.573103Z",
          "iopub.status.idle": "2025-04-22T17:10:52.597531Z",
          "shell.execute_reply.started": "2025-04-22T17:10:52.573061Z",
          "shell.execute_reply": "2025-04-22T17:10:52.596099Z"
        },
        "trusted": true,
        "id": "Vk5D_qZP-OuO"
      },
      "outputs": [],
      "execution_count": null
    },
    {
      "cell_type": "code",
      "source": [
        "print(\"Missing Values:\")\n",
        "print(dataset.isnull().sum())"
      ],
      "metadata": {
        "execution": {
          "iopub.status.busy": "2025-04-22T17:10:52.599028Z",
          "iopub.execute_input": "2025-04-22T17:10:52.599433Z",
          "iopub.status.idle": "2025-04-22T17:10:52.634674Z",
          "shell.execute_reply.started": "2025-04-22T17:10:52.599395Z",
          "shell.execute_reply": "2025-04-22T17:10:52.633162Z"
        },
        "trusted": true,
        "id": "jK4pRxFn-OuO"
      },
      "outputs": [],
      "execution_count": null
    },
    {
      "cell_type": "markdown",
      "source": [
        "**calculating the length of each text entry in the 'statement' column by splitting the text into words and counting them. This is stored in a new column called 'text_length'.**"
      ],
      "metadata": {
        "id": "qJYeCBHw-OuO"
      }
    },
    {
      "cell_type": "code",
      "source": [
        "dataset['text_length'] = dataset['statement'].apply(lambda x: len(str(x).split()))"
      ],
      "metadata": {
        "execution": {
          "iopub.status.busy": "2025-04-22T17:10:52.636436Z",
          "iopub.execute_input": "2025-04-22T17:10:52.636981Z",
          "iopub.status.idle": "2025-04-22T17:10:53.028495Z",
          "shell.execute_reply.started": "2025-04-22T17:10:52.636926Z",
          "shell.execute_reply": "2025-04-22T17:10:53.027205Z"
        },
        "trusted": true,
        "id": "OSzd81EM-OuO"
      },
      "outputs": [],
      "execution_count": null
    },
    {
      "cell_type": "markdown",
      "source": [
        "**to relate text length to other variables (e.g., text length vs. mental health status), you can use a scatter plot to show how the length varies across different categories.**"
      ],
      "metadata": {
        "id": "ij-QpsnA-OuO"
      }
    },
    {
      "cell_type": "code",
      "source": [
        "fig = px.scatter(dataset, x='status', y='text_length', title='Text Length vs Mental Health Status')\n",
        "fig.show()\n"
      ],
      "metadata": {
        "execution": {
          "iopub.status.busy": "2025-04-22T17:10:53.03307Z",
          "iopub.execute_input": "2025-04-22T17:10:53.033593Z",
          "iopub.status.idle": "2025-04-22T17:10:53.227732Z",
          "shell.execute_reply.started": "2025-04-22T17:10:53.033538Z",
          "shell.execute_reply": "2025-04-22T17:10:53.226125Z"
        },
        "trusted": true,
        "id": "pHNv6DBJ-OuO"
      },
      "outputs": [],
      "execution_count": null
    },
    {
      "cell_type": "code",
      "source": [
        "import re\n",
        "import string\n",
        "import nltk\n",
        "from nltk.corpus import stopwords\n",
        "from nltk.tokenize import word_tokenize\n",
        "from sklearn.model_selection import train_test_split, GridSearchCV\n",
        "from sklearn.feature_extraction.text import TfidfVectorizer\n",
        "from sklearn.linear_model import LogisticRegression\n",
        "from sklearn.metrics import confusion_matrix, classification_report, accuracy_score\n",
        "import plotly.figure_factory as ff\n",
        "from textblob import TextBlob\n",
        "import numpy as np\n",
        "from wordcloud import WordCloud\n",
        "import matplotlib.pyplot as plt\n",
        "import plotly.express as px\n",
        "import plotly.graph_objects as go"
      ],
      "metadata": {
        "trusted": true,
        "execution": {
          "iopub.status.busy": "2025-04-22T17:10:53.229467Z",
          "iopub.execute_input": "2025-04-22T17:10:53.229941Z",
          "iopub.status.idle": "2025-04-22T17:10:55.88186Z",
          "shell.execute_reply.started": "2025-04-22T17:10:53.229893Z",
          "shell.execute_reply": "2025-04-22T17:10:55.880503Z"
        },
        "id": "Y-kY45ns-OuO"
      },
      "outputs": [],
      "execution_count": null
    },
    {
      "cell_type": "markdown",
      "source": [
        "# Splitting the data"
      ],
      "metadata": {
        "id": "GHEs5Og--OuO"
      }
    },
    {
      "cell_type": "code",
      "source": [
        "X = dataset['statement']\n",
        "y = dataset['status']"
      ],
      "metadata": {
        "trusted": true,
        "execution": {
          "iopub.status.busy": "2025-04-22T17:10:55.883363Z",
          "iopub.execute_input": "2025-04-22T17:10:55.884104Z",
          "iopub.status.idle": "2025-04-22T17:10:55.8909Z",
          "shell.execute_reply.started": "2025-04-22T17:10:55.884053Z",
          "shell.execute_reply": "2025-04-22T17:10:55.889453Z"
        },
        "id": "DOwKs-eS-OuP"
      },
      "outputs": [],
      "execution_count": null
    },
    {
      "cell_type": "code",
      "source": [
        "X_train, X_test, y_train, y_test = train_test_split(X, y, test_size=0.2, random_state=42)"
      ],
      "metadata": {
        "trusted": true,
        "execution": {
          "iopub.status.busy": "2025-04-22T17:10:55.892111Z",
          "iopub.execute_input": "2025-04-22T17:10:55.892457Z",
          "iopub.status.idle": "2025-04-22T17:10:55.922491Z",
          "shell.execute_reply.started": "2025-04-22T17:10:55.892423Z",
          "shell.execute_reply": "2025-04-22T17:10:55.92018Z"
        },
        "id": "qwiysbWq-OuP"
      },
      "outputs": [],
      "execution_count": null
    },
    {
      "cell_type": "markdown",
      "source": [
        "# Vectorization"
      ],
      "metadata": {
        "id": "fqdDQ3BV-OuP"
      }
    },
    {
      "cell_type": "code",
      "source": [
        "vectorizer = TfidfVectorizer(max_features=10000)\n",
        "X_train_tfidf = vectorizer.fit_transform(X_train)\n",
        "X_test_tfidf = vectorizer.transform(X_test)"
      ],
      "metadata": {
        "trusted": true,
        "execution": {
          "iopub.status.busy": "2025-04-22T17:10:55.924467Z",
          "iopub.execute_input": "2025-04-22T17:10:55.92486Z",
          "iopub.status.idle": "2025-04-22T17:11:01.005476Z",
          "shell.execute_reply.started": "2025-04-22T17:10:55.924813Z",
          "shell.execute_reply": "2025-04-22T17:11:01.004194Z"
        },
        "id": "oOXm-Ke4-OuP"
      },
      "outputs": [],
      "execution_count": null
    },
    {
      "cell_type": "markdown",
      "source": [
        "# Model Training with Hyperparameter Tuning"
      ],
      "metadata": {
        "id": "tTSghZ-s-OuP"
      }
    },
    {
      "cell_type": "code",
      "source": [
        "param_grid = {\n",
        "    'C': [0.01, 0.1, 1, 10, 100]\n",
        "}\n",
        "\n",
        "model = LogisticRegression(max_iter=10)\n",
        "grid_search = GridSearchCV(model, param_grid, cv=5, scoring='accuracy')\n",
        "grid_search.fit(X_train_tfidf, y_train)\n",
        "\n",
        "# Best Model\n",
        "best_model = grid_search.best_estimator_"
      ],
      "metadata": {
        "trusted": true,
        "execution": {
          "iopub.status.busy": "2025-04-22T17:11:01.007218Z",
          "iopub.execute_input": "2025-04-22T17:11:01.007714Z",
          "iopub.status.idle": "2025-04-22T17:11:40.965195Z",
          "shell.execute_reply.started": "2025-04-22T17:11:01.007666Z",
          "shell.execute_reply": "2025-04-22T17:11:40.964191Z"
        },
        "id": "4hxc2pJN-OuP"
      },
      "outputs": [],
      "execution_count": null
    },
    {
      "cell_type": "code",
      "source": [
        "y_pred = best_model.predict(X_test_tfidf)"
      ],
      "metadata": {
        "trusted": true,
        "execution": {
          "iopub.status.busy": "2025-04-22T17:11:40.966756Z",
          "iopub.execute_input": "2025-04-22T17:11:40.969556Z",
          "iopub.status.idle": "2025-04-22T17:11:40.998677Z",
          "shell.execute_reply.started": "2025-04-22T17:11:40.969503Z",
          "shell.execute_reply": "2025-04-22T17:11:40.997583Z"
        },
        "id": "wzZDfHtj-OuP"
      },
      "outputs": [],
      "execution_count": null
    },
    {
      "cell_type": "code",
      "source": [
        "print(\"Best Parameters:\")\n",
        "print(grid_search.best_params_)\n",
        "\n",
        "print(\"Accuracy Score:\")\n",
        "print(accuracy_score(y_test, y_pred))\n",
        "\n",
        "print(\"Classification Report:\")\n",
        "print(classification_report(y_test, y_pred))"
      ],
      "metadata": {
        "trusted": true,
        "execution": {
          "iopub.status.busy": "2025-04-22T17:11:41.002036Z",
          "iopub.execute_input": "2025-04-22T17:11:41.002643Z",
          "iopub.status.idle": "2025-04-22T17:11:41.39288Z",
          "shell.execute_reply.started": "2025-04-22T17:11:41.00256Z",
          "shell.execute_reply": "2025-04-22T17:11:41.391717Z"
        },
        "id": "PZEywKv5-OuP"
      },
      "outputs": [],
      "execution_count": null
    },
    {
      "cell_type": "code",
      "source": [
        "# Feature Importance\n",
        "feature_names = vectorizer.get_feature_names_out()\n",
        "coefs = best_model.coef_\n",
        "for i, category in enumerate(best_model.classes_):\n",
        "    top_features = coefs[i].argsort()[-10:]\n",
        "    top_words = [feature_names[j] for j in top_features]\n",
        "    top_scores = [coefs[i][j] for j in top_features]\n",
        "    fig = go.Figure([go.Bar(x=top_words, y=top_scores)])\n",
        "    fig.update_layout(title=f'Top Features for {category}')\n",
        "    fig.show()"
      ],
      "metadata": {
        "trusted": true,
        "execution": {
          "iopub.status.busy": "2025-04-22T17:11:41.394276Z",
          "iopub.execute_input": "2025-04-22T17:11:41.394626Z",
          "iopub.status.idle": "2025-04-22T17:11:41.460673Z",
          "shell.execute_reply.started": "2025-04-22T17:11:41.394593Z",
          "shell.execute_reply": "2025-04-22T17:11:41.459588Z"
        },
        "id": "VdBfZmXG-OuP"
      },
      "outputs": [],
      "execution_count": null
    },
    {
      "cell_type": "code",
      "source": [
        "# Word Cloud\n",
        "all_text = ' '.join(dataset['statement'])\n",
        "wordcloud = WordCloud(width=800, height=400, background_color='white').generate(all_text)\n",
        "plt.figure(figsize=(10, 5))\n",
        "plt.imshow(wordcloud, interpolation='bilinear')\n",
        "plt.axis('off')\n",
        "plt.title('Word Cloud of Cleaned Statements')\n",
        "plt.show()"
      ],
      "metadata": {
        "trusted": true,
        "execution": {
          "iopub.status.busy": "2025-04-22T17:11:41.461897Z",
          "iopub.execute_input": "2025-04-22T17:11:41.462203Z",
          "iopub.status.idle": "2025-04-22T17:11:58.536841Z",
          "shell.execute_reply.started": "2025-04-22T17:11:41.462174Z",
          "shell.execute_reply": "2025-04-22T17:11:58.535581Z"
        },
        "id": "M6GPaYPH-OuP"
      },
      "outputs": [],
      "execution_count": null
    },
    {
      "cell_type": "code",
      "source": [
        "from sklearn.feature_extraction.text import TfidfVectorizer\n",
        "\n",
        "# Sample raw documents\n",
        "docs = dataset\n",
        "\n",
        "# Initialize vectorizer\n",
        "vectorizer = TfidfVectorizer(\n",
        "    lowercase=True,\n",
        "    stop_words='english',   # optionally remove common stop words\n",
        "    norm='l2',              # length normalization\n",
        "    smooth_idf=True         # adds 1 to idf numerator/denominator\n",
        ")\n",
        "\n",
        "# Learn vocabulary and idf, then transform docs to TF-IDF matrix\n",
        "tfidf_matrix = vectorizer.fit_transform(docs)\n",
        "\n",
        "# Retrieve feature names (terms)\n",
        "terms = vectorizer.get_feature_names_out()\n",
        "\n",
        "# Convert to dense array and display\n",
        "import pandas as pd\n",
        "df_tfidf = pd.DataFrame(tfidf_matrix.toarray(), columns=terms)\n",
        "print(df_tfidf)\n"
      ],
      "metadata": {
        "trusted": true,
        "execution": {
          "iopub.status.busy": "2025-04-22T17:11:58.538306Z",
          "iopub.execute_input": "2025-04-22T17:11:58.538638Z",
          "iopub.status.idle": "2025-04-22T17:11:58.557867Z",
          "shell.execute_reply.started": "2025-04-22T17:11:58.538606Z",
          "shell.execute_reply": "2025-04-22T17:11:58.556702Z"
        },
        "id": "W8CNHu5f-OuQ"
      },
      "outputs": [],
      "execution_count": null
    },
    {
      "cell_type": "code",
      "source": [
        "import plotly.express as px\n",
        "fig = px.pie(dataset, names='status', title='Proportion of Each Status Category')\n",
        "fig.show()"
      ],
      "metadata": {
        "trusted": true,
        "execution": {
          "iopub.status.busy": "2025-04-22T20:11:43.801939Z",
          "iopub.execute_input": "2025-04-22T20:11:43.802335Z",
          "iopub.status.idle": "2025-04-22T20:11:45.69191Z",
          "shell.execute_reply.started": "2025-04-22T20:11:43.8023Z",
          "shell.execute_reply": "2025-04-22T20:11:45.690863Z"
        },
        "id": "1Y0Jj1OK-OuQ"
      },
      "outputs": [],
      "execution_count": null
    }
  ]
}